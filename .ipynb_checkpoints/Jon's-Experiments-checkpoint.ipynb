{
 "cells": [
  {
   "cell_type": "markdown",
   "id": "455b2905-9245-4a59-95a6-92419ec619da",
   "metadata": {},
   "source": [
    "# 1. Installing packages"
   ]
  },
  {
   "cell_type": "code",
   "execution_count": 87,
   "id": "3673e03b-e2af-4dfc-a2e0-9202d6be56ad",
   "metadata": {},
   "outputs": [],
   "source": [
    "import pandas as pd\n",
    "import numpy as np\n",
    "from collections import Counter\n",
    "from sklearn.model_selection import train_test_split, cross_val_score, GridSearchCV, cross_validate\n",
    "from sklearn.neighbors import KNeighborsClassifier\n",
    "from sklearn.tree import DecisionTreeClassifier\n",
    "from sklearn.metrics import accuracy_score, f1_score\n",
    "from sklearn.preprocessing import StandardScaler\n",
    "from imblearn.over_sampling import SMOTE\n",
    "from imblearn.under_sampling import RandomUnderSampler\n",
    "from imblearn.pipeline import Pipeline"
   ]
  },
  {
   "cell_type": "markdown",
   "id": "a258fe91-bf4d-4126-b061-64dfc0d77c99",
   "metadata": {},
   "source": [
    "# 2. Extract meta-data from csv file"
   ]
  },
  {
   "cell_type": "markdown",
   "id": "7f375627-a584-4b1e-9bc7-ec6b245c5103",
   "metadata": {},
   "source": [
    "## meta-dataset csv:"
   ]
  },
  {
   "cell_type": "code",
   "execution_count": 88,
   "id": "0b0a956c-47e1-4999-be06-40e33a72aae0",
   "metadata": {},
   "outputs": [
    {
     "name": "stdout",
     "output_type": "stream",
     "text": [
      "     Unnamed: 0    beta_0    beta_1    beta_2    beta_3  beta_4  beta_5  \\\n",
      "0             0  0.116358  0.134907  0.278246  0.470489     0.0     0.0   \n",
      "1             1  0.096939  0.210459  0.269133  0.423469     0.0     0.0   \n",
      "2             2  0.067696  0.157957  0.483373  0.290974     0.0     0.0   \n",
      "3             3  0.085299  0.132486  0.328494  0.453721     0.0     0.0   \n",
      "4             4  0.026059  0.262215  0.288274  0.423453     0.0     0.0   \n",
      "..          ...       ...       ...       ...       ...     ...     ...   \n",
      "221         221  0.000000  0.335975  0.664025  0.000000     0.0     0.0   \n",
      "222         222  0.000000  0.322368  0.677632  0.000000     0.0     0.0   \n",
      "223         223  0.062405  0.138508  0.512938  0.286149     0.0     0.0   \n",
      "224         224  0.001678  0.318792  0.677852  0.001678     0.0     0.0   \n",
      "225         225  0.000000  0.344648  0.655352  0.000000     0.0     0.0   \n",
      "\n",
      "     beta_6  beta_7  label  \n",
      "0       0.0     0.0      1  \n",
      "1       0.0     0.0      1  \n",
      "2       0.0     0.0      1  \n",
      "3       0.0     0.0      1  \n",
      "4       0.0     0.0      1  \n",
      "..      ...     ...    ...  \n",
      "221     0.0     0.0      1  \n",
      "222     0.0     0.0      1  \n",
      "223     0.0     0.0      1  \n",
      "224     0.0     0.0      1  \n",
      "225     0.0     0.0      1  \n",
      "\n",
      "[226 rows x 10 columns]\n"
     ]
    }
   ],
   "source": [
    "df = pd.read_csv('./meta-dataset.csv')\n",
    "print(df)"
   ]
  },
  {
   "cell_type": "markdown",
   "id": "73126882-c8c6-40ce-8160-a3b3653b06db",
   "metadata": {},
   "source": [
    "## Split csv data into features and labels"
   ]
  },
  {
   "cell_type": "code",
   "execution_count": 70,
   "id": "9a52b742-4dc9-4509-bb62-576ed879ae6b",
   "metadata": {},
   "outputs": [],
   "source": [
    "# features = df.iloc[:, 1:-1].values\n",
    "# labels = df.iloc[:, [-1]].values.reshape(-1, 1)\n",
    "features = df.iloc[:, 1:-1]\n",
    "labels = df.iloc[:, [-1]]\n",
    "scaler = StandardScaler()"
   ]
  },
  {
   "cell_type": "code",
   "execution_count": 71,
   "id": "8d31520c-a29f-48cb-a156-302a8ce94895",
   "metadata": {},
   "outputs": [
    {
     "data": {
      "text/html": [
       "<div>\n",
       "<style scoped>\n",
       "    .dataframe tbody tr th:only-of-type {\n",
       "        vertical-align: middle;\n",
       "    }\n",
       "\n",
       "    .dataframe tbody tr th {\n",
       "        vertical-align: top;\n",
       "    }\n",
       "\n",
       "    .dataframe thead th {\n",
       "        text-align: right;\n",
       "    }\n",
       "</style>\n",
       "<table border=\"1\" class=\"dataframe\">\n",
       "  <thead>\n",
       "    <tr style=\"text-align: right;\">\n",
       "      <th></th>\n",
       "      <th>beta_0</th>\n",
       "      <th>beta_1</th>\n",
       "      <th>beta_2</th>\n",
       "      <th>beta_3</th>\n",
       "      <th>beta_4</th>\n",
       "      <th>beta_5</th>\n",
       "      <th>beta_6</th>\n",
       "      <th>beta_7</th>\n",
       "    </tr>\n",
       "  </thead>\n",
       "  <tbody>\n",
       "    <tr>\n",
       "      <th>0</th>\n",
       "      <td>0.116358</td>\n",
       "      <td>0.134907</td>\n",
       "      <td>0.278246</td>\n",
       "      <td>0.470489</td>\n",
       "      <td>0.0</td>\n",
       "      <td>0.0</td>\n",
       "      <td>0.0</td>\n",
       "      <td>0.0</td>\n",
       "    </tr>\n",
       "    <tr>\n",
       "      <th>1</th>\n",
       "      <td>0.096939</td>\n",
       "      <td>0.210459</td>\n",
       "      <td>0.269133</td>\n",
       "      <td>0.423469</td>\n",
       "      <td>0.0</td>\n",
       "      <td>0.0</td>\n",
       "      <td>0.0</td>\n",
       "      <td>0.0</td>\n",
       "    </tr>\n",
       "    <tr>\n",
       "      <th>2</th>\n",
       "      <td>0.067696</td>\n",
       "      <td>0.157957</td>\n",
       "      <td>0.483373</td>\n",
       "      <td>0.290974</td>\n",
       "      <td>0.0</td>\n",
       "      <td>0.0</td>\n",
       "      <td>0.0</td>\n",
       "      <td>0.0</td>\n",
       "    </tr>\n",
       "    <tr>\n",
       "      <th>3</th>\n",
       "      <td>0.085299</td>\n",
       "      <td>0.132486</td>\n",
       "      <td>0.328494</td>\n",
       "      <td>0.453721</td>\n",
       "      <td>0.0</td>\n",
       "      <td>0.0</td>\n",
       "      <td>0.0</td>\n",
       "      <td>0.0</td>\n",
       "    </tr>\n",
       "    <tr>\n",
       "      <th>4</th>\n",
       "      <td>0.026059</td>\n",
       "      <td>0.262215</td>\n",
       "      <td>0.288274</td>\n",
       "      <td>0.423453</td>\n",
       "      <td>0.0</td>\n",
       "      <td>0.0</td>\n",
       "      <td>0.0</td>\n",
       "      <td>0.0</td>\n",
       "    </tr>\n",
       "    <tr>\n",
       "      <th>...</th>\n",
       "      <td>...</td>\n",
       "      <td>...</td>\n",
       "      <td>...</td>\n",
       "      <td>...</td>\n",
       "      <td>...</td>\n",
       "      <td>...</td>\n",
       "      <td>...</td>\n",
       "      <td>...</td>\n",
       "    </tr>\n",
       "    <tr>\n",
       "      <th>221</th>\n",
       "      <td>0.000000</td>\n",
       "      <td>0.335975</td>\n",
       "      <td>0.664025</td>\n",
       "      <td>0.000000</td>\n",
       "      <td>0.0</td>\n",
       "      <td>0.0</td>\n",
       "      <td>0.0</td>\n",
       "      <td>0.0</td>\n",
       "    </tr>\n",
       "    <tr>\n",
       "      <th>222</th>\n",
       "      <td>0.000000</td>\n",
       "      <td>0.322368</td>\n",
       "      <td>0.677632</td>\n",
       "      <td>0.000000</td>\n",
       "      <td>0.0</td>\n",
       "      <td>0.0</td>\n",
       "      <td>0.0</td>\n",
       "      <td>0.0</td>\n",
       "    </tr>\n",
       "    <tr>\n",
       "      <th>223</th>\n",
       "      <td>0.062405</td>\n",
       "      <td>0.138508</td>\n",
       "      <td>0.512938</td>\n",
       "      <td>0.286149</td>\n",
       "      <td>0.0</td>\n",
       "      <td>0.0</td>\n",
       "      <td>0.0</td>\n",
       "      <td>0.0</td>\n",
       "    </tr>\n",
       "    <tr>\n",
       "      <th>224</th>\n",
       "      <td>0.001678</td>\n",
       "      <td>0.318792</td>\n",
       "      <td>0.677852</td>\n",
       "      <td>0.001678</td>\n",
       "      <td>0.0</td>\n",
       "      <td>0.0</td>\n",
       "      <td>0.0</td>\n",
       "      <td>0.0</td>\n",
       "    </tr>\n",
       "    <tr>\n",
       "      <th>225</th>\n",
       "      <td>0.000000</td>\n",
       "      <td>0.344648</td>\n",
       "      <td>0.655352</td>\n",
       "      <td>0.000000</td>\n",
       "      <td>0.0</td>\n",
       "      <td>0.0</td>\n",
       "      <td>0.0</td>\n",
       "      <td>0.0</td>\n",
       "    </tr>\n",
       "  </tbody>\n",
       "</table>\n",
       "<p>226 rows × 8 columns</p>\n",
       "</div>"
      ],
      "text/plain": [
       "       beta_0    beta_1    beta_2    beta_3  beta_4  beta_5  beta_6  beta_7\n",
       "0    0.116358  0.134907  0.278246  0.470489     0.0     0.0     0.0     0.0\n",
       "1    0.096939  0.210459  0.269133  0.423469     0.0     0.0     0.0     0.0\n",
       "2    0.067696  0.157957  0.483373  0.290974     0.0     0.0     0.0     0.0\n",
       "3    0.085299  0.132486  0.328494  0.453721     0.0     0.0     0.0     0.0\n",
       "4    0.026059  0.262215  0.288274  0.423453     0.0     0.0     0.0     0.0\n",
       "..        ...       ...       ...       ...     ...     ...     ...     ...\n",
       "221  0.000000  0.335975  0.664025  0.000000     0.0     0.0     0.0     0.0\n",
       "222  0.000000  0.322368  0.677632  0.000000     0.0     0.0     0.0     0.0\n",
       "223  0.062405  0.138508  0.512938  0.286149     0.0     0.0     0.0     0.0\n",
       "224  0.001678  0.318792  0.677852  0.001678     0.0     0.0     0.0     0.0\n",
       "225  0.000000  0.344648  0.655352  0.000000     0.0     0.0     0.0     0.0\n",
       "\n",
       "[226 rows x 8 columns]"
      ]
     },
     "execution_count": 71,
     "metadata": {},
     "output_type": "execute_result"
    }
   ],
   "source": [
    "features"
   ]
  },
  {
   "cell_type": "code",
   "execution_count": 72,
   "id": "b56bd8bc-421d-44e2-a7c6-9aabeb2c9a55",
   "metadata": {},
   "outputs": [
    {
     "data": {
      "text/plain": [
       "array([[ 1.21829768, -0.3165277 , -0.12547885, ..., -0.31748475,\n",
       "        -0.14503491, -0.21312473],\n",
       "       [ 0.83158988,  0.37134376, -0.16543095, ..., -0.31748475,\n",
       "        -0.14503491, -0.21312473],\n",
       "       [ 0.24924362, -0.10666632,  0.7737579 , ..., -0.31748475,\n",
       "        -0.14503491, -0.21312473],\n",
       "       ...,\n",
       "       [ 0.14387595, -0.28374088,  0.90336384, ..., -0.31748475,\n",
       "        -0.14503491, -0.21312473],\n",
       "       [-1.06545201,  1.35767216,  1.62631896, ..., -0.31748475,\n",
       "        -0.14503491, -0.21312473],\n",
       "       [-1.09886505,  1.59307727,  1.52768379, ..., -0.31748475,\n",
       "        -0.14503491, -0.21312473]])"
      ]
     },
     "execution_count": 72,
     "metadata": {},
     "output_type": "execute_result"
    }
   ],
   "source": [
    "features_std = scaler.fit_transform(features)\n",
    "features_std"
   ]
  },
  {
   "cell_type": "code",
   "execution_count": 73,
   "id": "7f856fb1-7ad6-4229-8919-92e99c21d5cd",
   "metadata": {},
   "outputs": [
    {
     "data": {
      "text/html": [
       "<div>\n",
       "<style scoped>\n",
       "    .dataframe tbody tr th:only-of-type {\n",
       "        vertical-align: middle;\n",
       "    }\n",
       "\n",
       "    .dataframe tbody tr th {\n",
       "        vertical-align: top;\n",
       "    }\n",
       "\n",
       "    .dataframe thead th {\n",
       "        text-align: right;\n",
       "    }\n",
       "</style>\n",
       "<table border=\"1\" class=\"dataframe\">\n",
       "  <thead>\n",
       "    <tr style=\"text-align: right;\">\n",
       "      <th></th>\n",
       "      <th>label</th>\n",
       "    </tr>\n",
       "  </thead>\n",
       "  <tbody>\n",
       "    <tr>\n",
       "      <th>0</th>\n",
       "      <td>1</td>\n",
       "    </tr>\n",
       "    <tr>\n",
       "      <th>1</th>\n",
       "      <td>1</td>\n",
       "    </tr>\n",
       "    <tr>\n",
       "      <th>2</th>\n",
       "      <td>1</td>\n",
       "    </tr>\n",
       "    <tr>\n",
       "      <th>3</th>\n",
       "      <td>1</td>\n",
       "    </tr>\n",
       "    <tr>\n",
       "      <th>4</th>\n",
       "      <td>1</td>\n",
       "    </tr>\n",
       "    <tr>\n",
       "      <th>...</th>\n",
       "      <td>...</td>\n",
       "    </tr>\n",
       "    <tr>\n",
       "      <th>221</th>\n",
       "      <td>1</td>\n",
       "    </tr>\n",
       "    <tr>\n",
       "      <th>222</th>\n",
       "      <td>1</td>\n",
       "    </tr>\n",
       "    <tr>\n",
       "      <th>223</th>\n",
       "      <td>1</td>\n",
       "    </tr>\n",
       "    <tr>\n",
       "      <th>224</th>\n",
       "      <td>1</td>\n",
       "    </tr>\n",
       "    <tr>\n",
       "      <th>225</th>\n",
       "      <td>1</td>\n",
       "    </tr>\n",
       "  </tbody>\n",
       "</table>\n",
       "<p>226 rows × 1 columns</p>\n",
       "</div>"
      ],
      "text/plain": [
       "     label\n",
       "0        1\n",
       "1        1\n",
       "2        1\n",
       "3        1\n",
       "4        1\n",
       "..     ...\n",
       "221      1\n",
       "222      1\n",
       "223      1\n",
       "224      1\n",
       "225      1\n",
       "\n",
       "[226 rows x 1 columns]"
      ]
     },
     "execution_count": 73,
     "metadata": {},
     "output_type": "execute_result"
    }
   ],
   "source": [
    "labels"
   ]
  },
  {
   "cell_type": "code",
   "execution_count": 74,
   "id": "dcb7bffa-c0b4-4cb7-a256-f4dc03d60c29",
   "metadata": {},
   "outputs": [
    {
     "data": {
      "text/plain": [
       "label\n",
       "1        148\n",
       "2         58\n",
       "0         20\n",
       "dtype: int64"
      ]
     },
     "execution_count": 74,
     "metadata": {},
     "output_type": "execute_result"
    }
   ],
   "source": [
    "lable_count = labels.value_counts()\n",
    "lable_count"
   ]
  },
  {
   "cell_type": "code",
   "execution_count": 75,
   "id": "55b98a3b-d9fa-4247-ab5c-4c211f38c52d",
   "metadata": {},
   "outputs": [],
   "source": [
    "# counter = Counter(labels)\n",
    "# for k, v in counter.items():\n",
    "#     dist = v / len(labels.values.reshape(-1, 1)) * 100\n",
    "#     print(f\"Class={k}, n={v} ({dist}%)\")"
   ]
  },
  {
   "cell_type": "markdown",
   "id": "5c9acf7c-035f-4674-9242-b290e05dae45",
   "metadata": {
    "tags": []
   },
   "source": [
    "# 3. Split features and Labels into train and test datasets"
   ]
  },
  {
   "cell_type": "code",
   "execution_count": 76,
   "id": "8b341dd9-c1b4-4437-9f8e-078c6698e8bf",
   "metadata": {},
   "outputs": [],
   "source": [
    "features_train, features_test, labels_train, labels_test = train_test_split(features, labels, test_size=0.35, random_state=42)"
   ]
  },
  {
   "cell_type": "markdown",
   "id": "e6c1374e-55f7-4047-a89a-332cbee30abe",
   "metadata": {},
   "source": [
    "## 4. Train with Decision Tree Classifier"
   ]
  },
  {
   "cell_type": "markdown",
   "id": "32a9772c-1963-44dd-874e-e0b9db983eab",
   "metadata": {},
   "source": [
    "### Initial f1_score accuracy before balancing data"
   ]
  },
  {
   "cell_type": "code",
   "execution_count": 77,
   "id": "079dc42e-4fe2-4a0e-aa06-6d9a6f806765",
   "metadata": {},
   "outputs": [],
   "source": [
    "# decision_tree = DecisionTreeClassifier()\n",
    "# # decision_tree.fit(features_train, labels_train)\n",
    "# scores = cross_validate(decision_tree, features_train, labels_train, cv=5, n_jobs=-1, scoring=\"f1_macro\")\n",
    "# scores"
   ]
  },
  {
   "cell_type": "markdown",
   "id": "5fb0ad26-3591-4830-921c-77d28776b468",
   "metadata": {},
   "source": [
    "### Oversampling minority class Undersampling majority class"
   ]
  },
  {
   "cell_type": "code",
   "execution_count": 78,
   "id": "084cd3ee-c2c8-4796-ae01-98d5c6e52ff9",
   "metadata": {},
   "outputs": [],
   "source": [
    "oversample = SMOTE()\n",
    "undersample = RandomUnderSampler()\n",
    "steps = [(\"o\", oversample), (\"u\", undersample)]\n",
    "pipeline = Pipeline(steps=steps)\n",
    "# Transform the dataset\n",
    "features_train, labels_train = pipeline.fit_resample(features_train, labels_train)"
   ]
  },
  {
   "cell_type": "code",
   "execution_count": 79,
   "id": "e33c6ecc-2a25-4163-8a1a-892cad1131cb",
   "metadata": {},
   "outputs": [],
   "source": [
    "### Test again"
   ]
  },
  {
   "cell_type": "code",
   "execution_count": 80,
   "id": "31362ce2-78ac-48ed-ab74-0c9113979622",
   "metadata": {},
   "outputs": [],
   "source": [
    "decision_tree = DecisionTreeClassifier()\n",
    "# decision_tree.fit(features_train, labels_train)\n",
    "# scores = cross_validate(decision_tree, features_train, labels_train, cv=5, n_jobs=-1, scoring=\"f1_macro\")\n",
    "# scores"
   ]
  },
  {
   "cell_type": "code",
   "execution_count": 81,
   "id": "3a5f1b49-c170-429e-9b87-dc6a84c48b3e",
   "metadata": {},
   "outputs": [],
   "source": [
    "# labels_predict = decision_tree.predict(features_test)\n",
    "# accuracy_score(labels_test, labels_predict)"
   ]
  },
  {
   "cell_type": "code",
   "execution_count": 82,
   "id": "2e85a84a-54db-4d2f-b78c-c11638a25ad7",
   "metadata": {},
   "outputs": [],
   "source": [
    "param_dist = {\n",
    "    \"criterion\": [\"gini\", \"entropy\"],\n",
    "    \"max_depth\": range(5,30),\n",
    "    \n",
    "}"
   ]
  },
  {
   "cell_type": "code",
   "execution_count": 83,
   "id": "42342593-c7cd-4a7a-b1c6-14b1cce65050",
   "metadata": {},
   "outputs": [
    {
     "data": {
      "text/html": [
       "<style>#sk-container-id-1 {color: black;background-color: white;}#sk-container-id-1 pre{padding: 0;}#sk-container-id-1 div.sk-toggleable {background-color: white;}#sk-container-id-1 label.sk-toggleable__label {cursor: pointer;display: block;width: 100%;margin-bottom: 0;padding: 0.3em;box-sizing: border-box;text-align: center;}#sk-container-id-1 label.sk-toggleable__label-arrow:before {content: \"▸\";float: left;margin-right: 0.25em;color: #696969;}#sk-container-id-1 label.sk-toggleable__label-arrow:hover:before {color: black;}#sk-container-id-1 div.sk-estimator:hover label.sk-toggleable__label-arrow:before {color: black;}#sk-container-id-1 div.sk-toggleable__content {max-height: 0;max-width: 0;overflow: hidden;text-align: left;background-color: #f0f8ff;}#sk-container-id-1 div.sk-toggleable__content pre {margin: 0.2em;color: black;border-radius: 0.25em;background-color: #f0f8ff;}#sk-container-id-1 input.sk-toggleable__control:checked~div.sk-toggleable__content {max-height: 200px;max-width: 100%;overflow: auto;}#sk-container-id-1 input.sk-toggleable__control:checked~label.sk-toggleable__label-arrow:before {content: \"▾\";}#sk-container-id-1 div.sk-estimator input.sk-toggleable__control:checked~label.sk-toggleable__label {background-color: #d4ebff;}#sk-container-id-1 div.sk-label input.sk-toggleable__control:checked~label.sk-toggleable__label {background-color: #d4ebff;}#sk-container-id-1 input.sk-hidden--visually {border: 0;clip: rect(1px 1px 1px 1px);clip: rect(1px, 1px, 1px, 1px);height: 1px;margin: -1px;overflow: hidden;padding: 0;position: absolute;width: 1px;}#sk-container-id-1 div.sk-estimator {font-family: monospace;background-color: #f0f8ff;border: 1px dotted black;border-radius: 0.25em;box-sizing: border-box;margin-bottom: 0.5em;}#sk-container-id-1 div.sk-estimator:hover {background-color: #d4ebff;}#sk-container-id-1 div.sk-parallel-item::after {content: \"\";width: 100%;border-bottom: 1px solid gray;flex-grow: 1;}#sk-container-id-1 div.sk-label:hover label.sk-toggleable__label {background-color: #d4ebff;}#sk-container-id-1 div.sk-serial::before {content: \"\";position: absolute;border-left: 1px solid gray;box-sizing: border-box;top: 0;bottom: 0;left: 50%;z-index: 0;}#sk-container-id-1 div.sk-serial {display: flex;flex-direction: column;align-items: center;background-color: white;padding-right: 0.2em;padding-left: 0.2em;position: relative;}#sk-container-id-1 div.sk-item {position: relative;z-index: 1;}#sk-container-id-1 div.sk-parallel {display: flex;align-items: stretch;justify-content: center;background-color: white;position: relative;}#sk-container-id-1 div.sk-item::before, #sk-container-id-1 div.sk-parallel-item::before {content: \"\";position: absolute;border-left: 1px solid gray;box-sizing: border-box;top: 0;bottom: 0;left: 50%;z-index: -1;}#sk-container-id-1 div.sk-parallel-item {display: flex;flex-direction: column;z-index: 1;position: relative;background-color: white;}#sk-container-id-1 div.sk-parallel-item:first-child::after {align-self: flex-end;width: 50%;}#sk-container-id-1 div.sk-parallel-item:last-child::after {align-self: flex-start;width: 50%;}#sk-container-id-1 div.sk-parallel-item:only-child::after {width: 0;}#sk-container-id-1 div.sk-dashed-wrapped {border: 1px dashed gray;margin: 0 0.4em 0.5em 0.4em;box-sizing: border-box;padding-bottom: 0.4em;background-color: white;}#sk-container-id-1 div.sk-label label {font-family: monospace;font-weight: bold;display: inline-block;line-height: 1.2em;}#sk-container-id-1 div.sk-label-container {text-align: center;}#sk-container-id-1 div.sk-container {/* jupyter's `normalize.less` sets `[hidden] { display: none; }` but bootstrap.min.css set `[hidden] { display: none !important; }` so we also need the `!important` here to be able to override the default hidden behavior on the sphinx rendered scikit-learn.org. See: https://github.com/scikit-learn/scikit-learn/issues/21755 */display: inline-block !important;position: relative;}#sk-container-id-1 div.sk-text-repr-fallback {display: none;}</style><div id=\"sk-container-id-1\" class=\"sk-top-container\"><div class=\"sk-text-repr-fallback\"><pre>GridSearchCV(cv=5, estimator=DecisionTreeClassifier(), n_jobs=-1,\n",
       "             param_grid={&#x27;criterion&#x27;: [&#x27;gini&#x27;, &#x27;entropy&#x27;],\n",
       "                         &#x27;max_depth&#x27;: range(5, 30)})</pre><b>In a Jupyter environment, please rerun this cell to show the HTML representation or trust the notebook. <br />On GitHub, the HTML representation is unable to render, please try loading this page with nbviewer.org.</b></div><div class=\"sk-container\" hidden><div class=\"sk-item sk-dashed-wrapped\"><div class=\"sk-label-container\"><div class=\"sk-label sk-toggleable\"><input class=\"sk-toggleable__control sk-hidden--visually\" id=\"sk-estimator-id-1\" type=\"checkbox\" ><label for=\"sk-estimator-id-1\" class=\"sk-toggleable__label sk-toggleable__label-arrow\">GridSearchCV</label><div class=\"sk-toggleable__content\"><pre>GridSearchCV(cv=5, estimator=DecisionTreeClassifier(), n_jobs=-1,\n",
       "             param_grid={&#x27;criterion&#x27;: [&#x27;gini&#x27;, &#x27;entropy&#x27;],\n",
       "                         &#x27;max_depth&#x27;: range(5, 30)})</pre></div></div></div><div class=\"sk-parallel\"><div class=\"sk-parallel-item\"><div class=\"sk-item\"><div class=\"sk-label-container\"><div class=\"sk-label sk-toggleable\"><input class=\"sk-toggleable__control sk-hidden--visually\" id=\"sk-estimator-id-2\" type=\"checkbox\" ><label for=\"sk-estimator-id-2\" class=\"sk-toggleable__label sk-toggleable__label-arrow\">estimator: DecisionTreeClassifier</label><div class=\"sk-toggleable__content\"><pre>DecisionTreeClassifier()</pre></div></div></div><div class=\"sk-serial\"><div class=\"sk-item\"><div class=\"sk-estimator sk-toggleable\"><input class=\"sk-toggleable__control sk-hidden--visually\" id=\"sk-estimator-id-3\" type=\"checkbox\" ><label for=\"sk-estimator-id-3\" class=\"sk-toggleable__label sk-toggleable__label-arrow\">DecisionTreeClassifier</label><div class=\"sk-toggleable__content\"><pre>DecisionTreeClassifier()</pre></div></div></div></div></div></div></div></div></div></div>"
      ],
      "text/plain": [
       "GridSearchCV(cv=5, estimator=DecisionTreeClassifier(), n_jobs=-1,\n",
       "             param_grid={'criterion': ['gini', 'entropy'],\n",
       "                         'max_depth': range(5, 30)})"
      ]
     },
     "execution_count": 83,
     "metadata": {},
     "output_type": "execute_result"
    }
   ],
   "source": [
    "grid = GridSearchCV(decision_tree, param_grid=param_dist, cv=5, n_jobs=-1)\n",
    "grid.fit(features_train, labels_train)"
   ]
  },
  {
   "cell_type": "code",
   "execution_count": 84,
   "id": "283b751b-1361-4a77-ae0a-42e2e60aaff3",
   "metadata": {},
   "outputs": [
    {
     "data": {
      "text/html": [
       "<style>#sk-container-id-2 {color: black;background-color: white;}#sk-container-id-2 pre{padding: 0;}#sk-container-id-2 div.sk-toggleable {background-color: white;}#sk-container-id-2 label.sk-toggleable__label {cursor: pointer;display: block;width: 100%;margin-bottom: 0;padding: 0.3em;box-sizing: border-box;text-align: center;}#sk-container-id-2 label.sk-toggleable__label-arrow:before {content: \"▸\";float: left;margin-right: 0.25em;color: #696969;}#sk-container-id-2 label.sk-toggleable__label-arrow:hover:before {color: black;}#sk-container-id-2 div.sk-estimator:hover label.sk-toggleable__label-arrow:before {color: black;}#sk-container-id-2 div.sk-toggleable__content {max-height: 0;max-width: 0;overflow: hidden;text-align: left;background-color: #f0f8ff;}#sk-container-id-2 div.sk-toggleable__content pre {margin: 0.2em;color: black;border-radius: 0.25em;background-color: #f0f8ff;}#sk-container-id-2 input.sk-toggleable__control:checked~div.sk-toggleable__content {max-height: 200px;max-width: 100%;overflow: auto;}#sk-container-id-2 input.sk-toggleable__control:checked~label.sk-toggleable__label-arrow:before {content: \"▾\";}#sk-container-id-2 div.sk-estimator input.sk-toggleable__control:checked~label.sk-toggleable__label {background-color: #d4ebff;}#sk-container-id-2 div.sk-label input.sk-toggleable__control:checked~label.sk-toggleable__label {background-color: #d4ebff;}#sk-container-id-2 input.sk-hidden--visually {border: 0;clip: rect(1px 1px 1px 1px);clip: rect(1px, 1px, 1px, 1px);height: 1px;margin: -1px;overflow: hidden;padding: 0;position: absolute;width: 1px;}#sk-container-id-2 div.sk-estimator {font-family: monospace;background-color: #f0f8ff;border: 1px dotted black;border-radius: 0.25em;box-sizing: border-box;margin-bottom: 0.5em;}#sk-container-id-2 div.sk-estimator:hover {background-color: #d4ebff;}#sk-container-id-2 div.sk-parallel-item::after {content: \"\";width: 100%;border-bottom: 1px solid gray;flex-grow: 1;}#sk-container-id-2 div.sk-label:hover label.sk-toggleable__label {background-color: #d4ebff;}#sk-container-id-2 div.sk-serial::before {content: \"\";position: absolute;border-left: 1px solid gray;box-sizing: border-box;top: 0;bottom: 0;left: 50%;z-index: 0;}#sk-container-id-2 div.sk-serial {display: flex;flex-direction: column;align-items: center;background-color: white;padding-right: 0.2em;padding-left: 0.2em;position: relative;}#sk-container-id-2 div.sk-item {position: relative;z-index: 1;}#sk-container-id-2 div.sk-parallel {display: flex;align-items: stretch;justify-content: center;background-color: white;position: relative;}#sk-container-id-2 div.sk-item::before, #sk-container-id-2 div.sk-parallel-item::before {content: \"\";position: absolute;border-left: 1px solid gray;box-sizing: border-box;top: 0;bottom: 0;left: 50%;z-index: -1;}#sk-container-id-2 div.sk-parallel-item {display: flex;flex-direction: column;z-index: 1;position: relative;background-color: white;}#sk-container-id-2 div.sk-parallel-item:first-child::after {align-self: flex-end;width: 50%;}#sk-container-id-2 div.sk-parallel-item:last-child::after {align-self: flex-start;width: 50%;}#sk-container-id-2 div.sk-parallel-item:only-child::after {width: 0;}#sk-container-id-2 div.sk-dashed-wrapped {border: 1px dashed gray;margin: 0 0.4em 0.5em 0.4em;box-sizing: border-box;padding-bottom: 0.4em;background-color: white;}#sk-container-id-2 div.sk-label label {font-family: monospace;font-weight: bold;display: inline-block;line-height: 1.2em;}#sk-container-id-2 div.sk-label-container {text-align: center;}#sk-container-id-2 div.sk-container {/* jupyter's `normalize.less` sets `[hidden] { display: none; }` but bootstrap.min.css set `[hidden] { display: none !important; }` so we also need the `!important` here to be able to override the default hidden behavior on the sphinx rendered scikit-learn.org. See: https://github.com/scikit-learn/scikit-learn/issues/21755 */display: inline-block !important;position: relative;}#sk-container-id-2 div.sk-text-repr-fallback {display: none;}</style><div id=\"sk-container-id-2\" class=\"sk-top-container\"><div class=\"sk-text-repr-fallback\"><pre>DecisionTreeClassifier(criterion=&#x27;entropy&#x27;, max_depth=13)</pre><b>In a Jupyter environment, please rerun this cell to show the HTML representation or trust the notebook. <br />On GitHub, the HTML representation is unable to render, please try loading this page with nbviewer.org.</b></div><div class=\"sk-container\" hidden><div class=\"sk-item\"><div class=\"sk-estimator sk-toggleable\"><input class=\"sk-toggleable__control sk-hidden--visually\" id=\"sk-estimator-id-4\" type=\"checkbox\" checked><label for=\"sk-estimator-id-4\" class=\"sk-toggleable__label sk-toggleable__label-arrow\">DecisionTreeClassifier</label><div class=\"sk-toggleable__content\"><pre>DecisionTreeClassifier(criterion=&#x27;entropy&#x27;, max_depth=13)</pre></div></div></div></div></div>"
      ],
      "text/plain": [
       "DecisionTreeClassifier(criterion='entropy', max_depth=13)"
      ]
     },
     "execution_count": 84,
     "metadata": {},
     "output_type": "execute_result"
    }
   ],
   "source": [
    "grid.best_estimator_"
   ]
  },
  {
   "cell_type": "code",
   "execution_count": 85,
   "id": "9cdb9d72-82e2-4938-8dd9-74d66c20e4ea",
   "metadata": {},
   "outputs": [
    {
     "data": {
      "text/plain": [
       "0.7542937853107345"
      ]
     },
     "execution_count": 85,
     "metadata": {},
     "output_type": "execute_result"
    }
   ],
   "source": [
    "grid.best_score_"
   ]
  },
  {
   "cell_type": "markdown",
   "id": "5de56445-058f-4c62-be31-0129c2d35489",
   "metadata": {},
   "source": [
    "# 5. Train with Knn classifier"
   ]
  },
  {
   "cell_type": "code",
   "execution_count": 89,
   "id": "c6b5b228-3cba-4996-91f3-2265ecfaa103",
   "metadata": {},
   "outputs": [
    {
     "ename": "SyntaxError",
     "evalue": "invalid syntax. Perhaps you forgot a comma? (2287643669.py, line 5)",
     "output_type": "error",
     "traceback": [
      "\u001b[1;36m  File \u001b[1;32m\"C:\\Users\\Jonathan\\AppData\\Local\\Temp\\ipykernel_38996\\2287643669.py\"\u001b[1;36m, line \u001b[1;32m5\u001b[0m\n\u001b[1;33m    knn_classifier = GridSearchCV(knn, knn_parameters, cv=5, n_jobs=-1 refit=True)\u001b[0m\n\u001b[1;37m                                                                    ^\u001b[0m\n\u001b[1;31mSyntaxError\u001b[0m\u001b[1;31m:\u001b[0m invalid syntax. Perhaps you forgot a comma?\n"
     ]
    }
   ],
   "source": [
    "knn = KNeighborsClassifier()\n",
    "knn_neighbours_range = range(4,113)\n",
    "knn_parameters = {'n_neighbors': knn_neighbours_range, 'weights':('uniform', 'distance'), 'p':[2], # p=2 for euclidian\n",
    "                    'metric':['minkowski']}\n",
    "knn_classifier = GridSearchCV(knn, knn_parameters, cv=5, n_jobs=-1, refit=True)\n",
    "knn_classifier.fit(features_train, labels_train)"
   ]
  },
  {
   "cell_type": "code",
   "execution_count": null,
   "id": "8d6a4074-5a4c-40d1-8ebe-21bb810c05f6",
   "metadata": {},
   "outputs": [],
   "source": []
  }
 ],
 "metadata": {
  "kernelspec": {
   "display_name": "Python 3 (ipykernel)",
   "language": "python",
   "name": "python3"
  },
  "language_info": {
   "codemirror_mode": {
    "name": "ipython",
    "version": 3
   },
   "file_extension": ".py",
   "mimetype": "text/x-python",
   "name": "python",
   "nbconvert_exporter": "python",
   "pygments_lexer": "ipython3",
   "version": "3.10.9"
  }
 },
 "nbformat": 4,
 "nbformat_minor": 5
}
