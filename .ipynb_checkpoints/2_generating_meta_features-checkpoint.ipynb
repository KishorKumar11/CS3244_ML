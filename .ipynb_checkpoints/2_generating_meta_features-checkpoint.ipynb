{
 "cells": [
  {
   "cell_type": "markdown",
   "id": "fceae427-ef03-41f3-b743-0cba0ce4b9eb",
   "metadata": {},
   "source": [
    "# Calculating Beta Values and Generating Meta Features "
   ]
  },
  {
   "cell_type": "code",
   "execution_count": 2,
   "id": "8457f248-b57d-470a-b5fb-2ea92dc120ca",
   "metadata": {},
   "outputs": [],
   "source": [
    "import numpy as np\n",
    "import pandas as pd"
   ]
  },
  {
   "cell_type": "markdown",
   "id": "8257edda-b7d9-48a2-82d7-de1b027f7961",
   "metadata": {},
   "source": [
    "### Importing Meta-Dataset"
   ]
  },
  {
   "cell_type": "code",
   "execution_count": 12,
   "id": "5553387d-6465-4695-85e9-2b45d3d392bb",
   "metadata": {},
   "outputs": [
    {
     "data": {
      "text/html": [
       "<div>\n",
       "<style scoped>\n",
       "    .dataframe tbody tr th:only-of-type {\n",
       "        vertical-align: middle;\n",
       "    }\n",
       "\n",
       "    .dataframe tbody tr th {\n",
       "        vertical-align: top;\n",
       "    }\n",
       "\n",
       "    .dataframe thead th {\n",
       "        text-align: right;\n",
       "    }\n",
       "</style>\n",
       "<table border=\"1\" class=\"dataframe\">\n",
       "  <thead>\n",
       "    <tr style=\"text-align: right;\">\n",
       "      <th></th>\n",
       "      <th>beta_0</th>\n",
       "      <th>beta_1</th>\n",
       "      <th>beta_2</th>\n",
       "      <th>beta_3</th>\n",
       "      <th>beta_4</th>\n",
       "      <th>beta_5</th>\n",
       "      <th>beta_6</th>\n",
       "      <th>beta_7</th>\n",
       "      <th>label</th>\n",
       "    </tr>\n",
       "  </thead>\n",
       "  <tbody>\n",
       "    <tr>\n",
       "      <th>0</th>\n",
       "      <td>0.116358</td>\n",
       "      <td>0.134907</td>\n",
       "      <td>0.278246</td>\n",
       "      <td>0.470489</td>\n",
       "      <td>0.0</td>\n",
       "      <td>0.0</td>\n",
       "      <td>0.0</td>\n",
       "      <td>0.0</td>\n",
       "      <td>1</td>\n",
       "    </tr>\n",
       "    <tr>\n",
       "      <th>1</th>\n",
       "      <td>0.096939</td>\n",
       "      <td>0.210459</td>\n",
       "      <td>0.269133</td>\n",
       "      <td>0.423469</td>\n",
       "      <td>0.0</td>\n",
       "      <td>0.0</td>\n",
       "      <td>0.0</td>\n",
       "      <td>0.0</td>\n",
       "      <td>1</td>\n",
       "    </tr>\n",
       "    <tr>\n",
       "      <th>2</th>\n",
       "      <td>0.067696</td>\n",
       "      <td>0.157957</td>\n",
       "      <td>0.483373</td>\n",
       "      <td>0.290974</td>\n",
       "      <td>0.0</td>\n",
       "      <td>0.0</td>\n",
       "      <td>0.0</td>\n",
       "      <td>0.0</td>\n",
       "      <td>1</td>\n",
       "    </tr>\n",
       "    <tr>\n",
       "      <th>3</th>\n",
       "      <td>0.085299</td>\n",
       "      <td>0.132486</td>\n",
       "      <td>0.328494</td>\n",
       "      <td>0.453721</td>\n",
       "      <td>0.0</td>\n",
       "      <td>0.0</td>\n",
       "      <td>0.0</td>\n",
       "      <td>0.0</td>\n",
       "      <td>1</td>\n",
       "    </tr>\n",
       "    <tr>\n",
       "      <th>4</th>\n",
       "      <td>0.026059</td>\n",
       "      <td>0.262215</td>\n",
       "      <td>0.288274</td>\n",
       "      <td>0.423453</td>\n",
       "      <td>0.0</td>\n",
       "      <td>0.0</td>\n",
       "      <td>0.0</td>\n",
       "      <td>0.0</td>\n",
       "      <td>1</td>\n",
       "    </tr>\n",
       "    <tr>\n",
       "      <th>...</th>\n",
       "      <td>...</td>\n",
       "      <td>...</td>\n",
       "      <td>...</td>\n",
       "      <td>...</td>\n",
       "      <td>...</td>\n",
       "      <td>...</td>\n",
       "      <td>...</td>\n",
       "      <td>...</td>\n",
       "      <td>...</td>\n",
       "    </tr>\n",
       "    <tr>\n",
       "      <th>221</th>\n",
       "      <td>0.000000</td>\n",
       "      <td>0.335975</td>\n",
       "      <td>0.664025</td>\n",
       "      <td>0.000000</td>\n",
       "      <td>0.0</td>\n",
       "      <td>0.0</td>\n",
       "      <td>0.0</td>\n",
       "      <td>0.0</td>\n",
       "      <td>1</td>\n",
       "    </tr>\n",
       "    <tr>\n",
       "      <th>222</th>\n",
       "      <td>0.000000</td>\n",
       "      <td>0.322368</td>\n",
       "      <td>0.677632</td>\n",
       "      <td>0.000000</td>\n",
       "      <td>0.0</td>\n",
       "      <td>0.0</td>\n",
       "      <td>0.0</td>\n",
       "      <td>0.0</td>\n",
       "      <td>1</td>\n",
       "    </tr>\n",
       "    <tr>\n",
       "      <th>223</th>\n",
       "      <td>0.062405</td>\n",
       "      <td>0.138508</td>\n",
       "      <td>0.512938</td>\n",
       "      <td>0.286149</td>\n",
       "      <td>0.0</td>\n",
       "      <td>0.0</td>\n",
       "      <td>0.0</td>\n",
       "      <td>0.0</td>\n",
       "      <td>1</td>\n",
       "    </tr>\n",
       "    <tr>\n",
       "      <th>224</th>\n",
       "      <td>0.001678</td>\n",
       "      <td>0.318792</td>\n",
       "      <td>0.677852</td>\n",
       "      <td>0.001678</td>\n",
       "      <td>0.0</td>\n",
       "      <td>0.0</td>\n",
       "      <td>0.0</td>\n",
       "      <td>0.0</td>\n",
       "      <td>1</td>\n",
       "    </tr>\n",
       "    <tr>\n",
       "      <th>225</th>\n",
       "      <td>0.000000</td>\n",
       "      <td>0.344648</td>\n",
       "      <td>0.655352</td>\n",
       "      <td>0.000000</td>\n",
       "      <td>0.0</td>\n",
       "      <td>0.0</td>\n",
       "      <td>0.0</td>\n",
       "      <td>0.0</td>\n",
       "      <td>1</td>\n",
       "    </tr>\n",
       "  </tbody>\n",
       "</table>\n",
       "<p>226 rows × 9 columns</p>\n",
       "</div>"
      ],
      "text/plain": [
       "       beta_0    beta_1    beta_2    beta_3  beta_4  beta_5  beta_6  beta_7  \\\n",
       "0    0.116358  0.134907  0.278246  0.470489     0.0     0.0     0.0     0.0   \n",
       "1    0.096939  0.210459  0.269133  0.423469     0.0     0.0     0.0     0.0   \n",
       "2    0.067696  0.157957  0.483373  0.290974     0.0     0.0     0.0     0.0   \n",
       "3    0.085299  0.132486  0.328494  0.453721     0.0     0.0     0.0     0.0   \n",
       "4    0.026059  0.262215  0.288274  0.423453     0.0     0.0     0.0     0.0   \n",
       "..        ...       ...       ...       ...     ...     ...     ...     ...   \n",
       "221  0.000000  0.335975  0.664025  0.000000     0.0     0.0     0.0     0.0   \n",
       "222  0.000000  0.322368  0.677632  0.000000     0.0     0.0     0.0     0.0   \n",
       "223  0.062405  0.138508  0.512938  0.286149     0.0     0.0     0.0     0.0   \n",
       "224  0.001678  0.318792  0.677852  0.001678     0.0     0.0     0.0     0.0   \n",
       "225  0.000000  0.344648  0.655352  0.000000     0.0     0.0     0.0     0.0   \n",
       "\n",
       "     label  \n",
       "0        1  \n",
       "1        1  \n",
       "2        1  \n",
       "3        1  \n",
       "4        1  \n",
       "..     ...  \n",
       "221      1  \n",
       "222      1  \n",
       "223      1  \n",
       "224      1  \n",
       "225      1  \n",
       "\n",
       "[226 rows x 9 columns]"
      ]
     },
     "execution_count": 12,
     "metadata": {},
     "output_type": "execute_result"
    }
   ],
   "source": [
    "dataset = pd.read_csv('./meta-dataset.csv')\n",
    "dataset = dataset.iloc[:,1:]\n",
    "dataset "
   ]
  },
  {
   "cell_type": "markdown",
   "id": "1ac64daf-03ac-4374-83a8-60da00e15eda",
   "metadata": {},
   "source": [
    "#### Calculating the value of U<sub>y<sub>i</sub></sub> for all sample points present in the dataset "
   ]
  },
  {
   "cell_type": "markdown",
   "id": "48b0015b-a0aa-4f07-88b0-54377587bb01",
   "metadata": {},
   "source": [
    "The expression for calculating U<sub>y<sub>i</sub></sub> is as given below:"
   ]
  },
  {
   "cell_type": "markdown",
   "id": "3934abf1-3ab8-4486-b0c0-be1c63330686",
   "metadata": {},
   "source": [
    "<center><img src=\"./Images/formula_1.png\"></center>"
   ]
  },
  {
   "cell_type": "markdown",
   "id": "05555f62-098d-4ce6-8878-35076e8c17b3",
   "metadata": {},
   "source": [
    "### Explaination of the above formula\n",
    "* What the above formula is trying to convey is that of a given sample point <**x<sub>i</sub>**, y<sub>i</sub>>, we need to find the total number of sample points with the which  have the same the label value as y<sub>i</sub>. It is important to note that this total is not inclusive of the sample point <**x<sub>i</sub>**, y<sub>i</sub>>.\n",
    "\n",
    "* To make things simpler, instead of constructing a function that takes in each sample point and calculates the U<sub>y<sub>i</sub></sub> seperately, we can just calculate the total of number of samples from each class and subtract one from the total for each respective class. Once this is done we can then plug in the values of ***U*** for each respective class label in the subsequent formulae that require us to iterate through each point."
   ]
  },
  {
   "cell_type": "markdown",
   "id": "3c4aa675-dea5-4ff4-b14a-92fcb29f0691",
   "metadata": {},
   "source": [
    "#### Counting the number of values for each class"
   ]
  },
  {
   "cell_type": "code",
   "execution_count": 24,
   "id": "228ebbf2-bb6b-44b5-a17e-05f41aeb7fa0",
   "metadata": {},
   "outputs": [
    {
     "name": "stdout",
     "output_type": "stream",
     "text": [
      "The number of values in Class-0 = 20\n",
      "The number of values in Class-1 = 148\n",
      "The number of values in Class-2 = 58\n"
     ]
    }
   ],
   "source": [
    "numValuesClass0 = dataset['label'].value_counts()[0]\n",
    "numValuesClass1 = dataset['label'].value_counts()[1]\n",
    "numValuesClass2 = dataset['label'].value_counts()[2]\n",
    "\n",
    "print(f'The number of values in Class-0 = {numValuesClass0}')\n",
    "print(f'The number of values in Class-1 = {numValuesClass1}')\n",
    "print(f'The number of values in Class-2 = {numValuesClass2}')"
   ]
  },
  {
   "cell_type": "markdown",
   "id": "d8455459-80a6-4e31-8e4a-0bb75d4f6d99",
   "metadata": {},
   "source": [
    "#### Calculating the U<sub>y<sub>i</sub></sub> for each of the respective classes "
   ]
  },
  {
   "cell_type": "code",
   "execution_count": 26,
   "id": "8621a0fe-03ee-452d-aba2-b25d77f47ce2",
   "metadata": {},
   "outputs": [
    {
     "name": "stdout",
     "output_type": "stream",
     "text": [
      "The U value in Class-0 = 19\n",
      "The U value in Class-1 = 147\n",
      "The U value in Class-2 = 57\n"
     ]
    }
   ],
   "source": [
    "uValueClass0 = numValuesClass0 - 1\n",
    "uValueClass1 = numValuesClass1 - 1\n",
    "uValueClass2 = numValuesClass2 - 1\n",
    "\n",
    "print(f'The U value in Class-0 = {uValueClass0}')\n",
    "print(f'The U value in Class-1 = {uValueClass1}')\n",
    "print(f'The U value in Class-2 = {uValueClass2}')"
   ]
  }
 ],
 "metadata": {
  "kernelspec": {
   "display_name": "Python 3 (ipykernel)",
   "language": "python",
   "name": "python3"
  },
  "language_info": {
   "codemirror_mode": {
    "name": "ipython",
    "version": 3
   },
   "file_extension": ".py",
   "mimetype": "text/x-python",
   "name": "python",
   "nbconvert_exporter": "python",
   "pygments_lexer": "ipython3",
   "version": "3.8.15"
  }
 },
 "nbformat": 4,
 "nbformat_minor": 5
}
