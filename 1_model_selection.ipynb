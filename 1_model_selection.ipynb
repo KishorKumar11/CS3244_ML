{
 "cells": [
  {
   "cell_type": "markdown",
   "id": "61fc736c-4d20-420a-956f-9b3dedbad926",
   "metadata": {},
   "source": [
    "# Part - 1: Generating h<sup>*</sup>(D) model"
   ]
  },
  {
   "cell_type": "markdown",
   "id": "ca0a1dd1-bc09-494c-ae80-0700e96d2038",
   "metadata": {},
   "source": [
    "## Step - 1: Importing respective libraries and meta-dataset.csv"
   ]
  },
  {
   "cell_type": "code",
   "execution_count": 1,
   "id": "92023fa8-d657-485e-8a3f-868377a7c971",
   "metadata": {},
   "outputs": [],
   "source": [
    "from sklearn.tree import DecisionTreeClassifier\n",
    "from sklearn.neighbors import KNeighborsClassifier\n",
    "from sklearn.model_selection import train_test_split, GridSearchCV, KFold, RepeatedStratifiedKFold\n",
    "from sklearn.model_selection import train_test_split\n",
    "from sklearn.metrics import accuracy_score\n",
    "import numpy as np\n",
    "import pandas as pd\n",
    "import matplotlib.pyplot as plt"
   ]
  },
  {
   "cell_type": "code",
   "execution_count": 2,
   "id": "b1a5df3c-f43f-40db-b8d6-2b19e40874bb",
   "metadata": {},
   "outputs": [
    {
     "data": {
      "text/html": [
       "<div>\n",
       "<style scoped>\n",
       "    .dataframe tbody tr th:only-of-type {\n",
       "        vertical-align: middle;\n",
       "    }\n",
       "\n",
       "    .dataframe tbody tr th {\n",
       "        vertical-align: top;\n",
       "    }\n",
       "\n",
       "    .dataframe thead th {\n",
       "        text-align: right;\n",
       "    }\n",
       "</style>\n",
       "<table border=\"1\" class=\"dataframe\">\n",
       "  <thead>\n",
       "    <tr style=\"text-align: right;\">\n",
       "      <th></th>\n",
       "      <th>Unnamed: 0</th>\n",
       "      <th>beta_0</th>\n",
       "      <th>beta_1</th>\n",
       "      <th>beta_2</th>\n",
       "      <th>beta_3</th>\n",
       "      <th>beta_4</th>\n",
       "      <th>beta_5</th>\n",
       "      <th>beta_6</th>\n",
       "      <th>beta_7</th>\n",
       "      <th>label</th>\n",
       "    </tr>\n",
       "  </thead>\n",
       "  <tbody>\n",
       "    <tr>\n",
       "      <th>0</th>\n",
       "      <td>0</td>\n",
       "      <td>0.116358</td>\n",
       "      <td>0.134907</td>\n",
       "      <td>0.278246</td>\n",
       "      <td>0.470489</td>\n",
       "      <td>0.0</td>\n",
       "      <td>0.0</td>\n",
       "      <td>0.0</td>\n",
       "      <td>0.0</td>\n",
       "      <td>1</td>\n",
       "    </tr>\n",
       "    <tr>\n",
       "      <th>1</th>\n",
       "      <td>1</td>\n",
       "      <td>0.096939</td>\n",
       "      <td>0.210459</td>\n",
       "      <td>0.269133</td>\n",
       "      <td>0.423469</td>\n",
       "      <td>0.0</td>\n",
       "      <td>0.0</td>\n",
       "      <td>0.0</td>\n",
       "      <td>0.0</td>\n",
       "      <td>1</td>\n",
       "    </tr>\n",
       "    <tr>\n",
       "      <th>2</th>\n",
       "      <td>2</td>\n",
       "      <td>0.067696</td>\n",
       "      <td>0.157957</td>\n",
       "      <td>0.483373</td>\n",
       "      <td>0.290974</td>\n",
       "      <td>0.0</td>\n",
       "      <td>0.0</td>\n",
       "      <td>0.0</td>\n",
       "      <td>0.0</td>\n",
       "      <td>1</td>\n",
       "    </tr>\n",
       "    <tr>\n",
       "      <th>3</th>\n",
       "      <td>3</td>\n",
       "      <td>0.085299</td>\n",
       "      <td>0.132486</td>\n",
       "      <td>0.328494</td>\n",
       "      <td>0.453721</td>\n",
       "      <td>0.0</td>\n",
       "      <td>0.0</td>\n",
       "      <td>0.0</td>\n",
       "      <td>0.0</td>\n",
       "      <td>1</td>\n",
       "    </tr>\n",
       "    <tr>\n",
       "      <th>4</th>\n",
       "      <td>4</td>\n",
       "      <td>0.026059</td>\n",
       "      <td>0.262215</td>\n",
       "      <td>0.288274</td>\n",
       "      <td>0.423453</td>\n",
       "      <td>0.0</td>\n",
       "      <td>0.0</td>\n",
       "      <td>0.0</td>\n",
       "      <td>0.0</td>\n",
       "      <td>1</td>\n",
       "    </tr>\n",
       "    <tr>\n",
       "      <th>...</th>\n",
       "      <td>...</td>\n",
       "      <td>...</td>\n",
       "      <td>...</td>\n",
       "      <td>...</td>\n",
       "      <td>...</td>\n",
       "      <td>...</td>\n",
       "      <td>...</td>\n",
       "      <td>...</td>\n",
       "      <td>...</td>\n",
       "      <td>...</td>\n",
       "    </tr>\n",
       "    <tr>\n",
       "      <th>221</th>\n",
       "      <td>221</td>\n",
       "      <td>0.000000</td>\n",
       "      <td>0.335975</td>\n",
       "      <td>0.664025</td>\n",
       "      <td>0.000000</td>\n",
       "      <td>0.0</td>\n",
       "      <td>0.0</td>\n",
       "      <td>0.0</td>\n",
       "      <td>0.0</td>\n",
       "      <td>1</td>\n",
       "    </tr>\n",
       "    <tr>\n",
       "      <th>222</th>\n",
       "      <td>222</td>\n",
       "      <td>0.000000</td>\n",
       "      <td>0.322368</td>\n",
       "      <td>0.677632</td>\n",
       "      <td>0.000000</td>\n",
       "      <td>0.0</td>\n",
       "      <td>0.0</td>\n",
       "      <td>0.0</td>\n",
       "      <td>0.0</td>\n",
       "      <td>1</td>\n",
       "    </tr>\n",
       "    <tr>\n",
       "      <th>223</th>\n",
       "      <td>223</td>\n",
       "      <td>0.062405</td>\n",
       "      <td>0.138508</td>\n",
       "      <td>0.512938</td>\n",
       "      <td>0.286149</td>\n",
       "      <td>0.0</td>\n",
       "      <td>0.0</td>\n",
       "      <td>0.0</td>\n",
       "      <td>0.0</td>\n",
       "      <td>1</td>\n",
       "    </tr>\n",
       "    <tr>\n",
       "      <th>224</th>\n",
       "      <td>224</td>\n",
       "      <td>0.001678</td>\n",
       "      <td>0.318792</td>\n",
       "      <td>0.677852</td>\n",
       "      <td>0.001678</td>\n",
       "      <td>0.0</td>\n",
       "      <td>0.0</td>\n",
       "      <td>0.0</td>\n",
       "      <td>0.0</td>\n",
       "      <td>1</td>\n",
       "    </tr>\n",
       "    <tr>\n",
       "      <th>225</th>\n",
       "      <td>225</td>\n",
       "      <td>0.000000</td>\n",
       "      <td>0.344648</td>\n",
       "      <td>0.655352</td>\n",
       "      <td>0.000000</td>\n",
       "      <td>0.0</td>\n",
       "      <td>0.0</td>\n",
       "      <td>0.0</td>\n",
       "      <td>0.0</td>\n",
       "      <td>1</td>\n",
       "    </tr>\n",
       "  </tbody>\n",
       "</table>\n",
       "<p>226 rows × 10 columns</p>\n",
       "</div>"
      ],
      "text/plain": [
       "     Unnamed: 0    beta_0    beta_1    beta_2    beta_3  beta_4  beta_5  \\\n",
       "0             0  0.116358  0.134907  0.278246  0.470489     0.0     0.0   \n",
       "1             1  0.096939  0.210459  0.269133  0.423469     0.0     0.0   \n",
       "2             2  0.067696  0.157957  0.483373  0.290974     0.0     0.0   \n",
       "3             3  0.085299  0.132486  0.328494  0.453721     0.0     0.0   \n",
       "4             4  0.026059  0.262215  0.288274  0.423453     0.0     0.0   \n",
       "..          ...       ...       ...       ...       ...     ...     ...   \n",
       "221         221  0.000000  0.335975  0.664025  0.000000     0.0     0.0   \n",
       "222         222  0.000000  0.322368  0.677632  0.000000     0.0     0.0   \n",
       "223         223  0.062405  0.138508  0.512938  0.286149     0.0     0.0   \n",
       "224         224  0.001678  0.318792  0.677852  0.001678     0.0     0.0   \n",
       "225         225  0.000000  0.344648  0.655352  0.000000     0.0     0.0   \n",
       "\n",
       "     beta_6  beta_7  label  \n",
       "0       0.0     0.0      1  \n",
       "1       0.0     0.0      1  \n",
       "2       0.0     0.0      1  \n",
       "3       0.0     0.0      1  \n",
       "4       0.0     0.0      1  \n",
       "..      ...     ...    ...  \n",
       "221     0.0     0.0      1  \n",
       "222     0.0     0.0      1  \n",
       "223     0.0     0.0      1  \n",
       "224     0.0     0.0      1  \n",
       "225     0.0     0.0      1  \n",
       "\n",
       "[226 rows x 10 columns]"
      ]
     },
     "execution_count": 2,
     "metadata": {},
     "output_type": "execute_result"
    }
   ],
   "source": [
    "df = pd.read_csv('./meta-dataset.csv')\n",
    "df"
   ]
  },
  {
   "cell_type": "code",
   "execution_count": 3,
   "id": "10211669-dc4a-4e7e-ac4e-25a714d40c73",
   "metadata": {},
   "outputs": [
    {
     "name": "stdout",
     "output_type": "stream",
     "text": [
      "Unnamed: 0 = 0.034580032509154354\n",
      "beta_0 = 0.09342538075102236\n",
      "beta_1 = -0.12233882935886431\n",
      "beta_2 = -0.17387561852802072\n",
      "beta_3 = 0.07023988688013583\n",
      "beta_4 = 0.04900796623224159\n",
      "beta_5 = 0.0023708454277309174\n",
      "beta_6 = 0.0054813855785419115\n",
      "beta_7 = 0.1342352819275331\n",
      "label = 1.0\n"
     ]
    }
   ],
   "source": [
    "column_headers = df.columns.values.tolist()\n",
    "column_headers\n",
    "\n",
    "for column in column_headers: \n",
    "    print(f\"{column} = {df[column].corr(df['label'])}\")"
   ]
  },
  {
   "cell_type": "code",
   "execution_count": 4,
   "id": "ac82b345-76b2-41d9-9eb6-f4a3e4b7ab9c",
   "metadata": {},
   "outputs": [],
   "source": [
    "# features = df.iloc[:, [2,3,8]]\n",
    "features = df.iloc[:, 1:]\n",
    "labels = df.iloc[:, [-1]]"
   ]
  },
  {
   "cell_type": "code",
   "execution_count": 5,
   "id": "1324d795-a3fe-49d6-9004-be384f2a6c7c",
   "metadata": {},
   "outputs": [
    {
     "data": {
      "text/html": [
       "<div>\n",
       "<style scoped>\n",
       "    .dataframe tbody tr th:only-of-type {\n",
       "        vertical-align: middle;\n",
       "    }\n",
       "\n",
       "    .dataframe tbody tr th {\n",
       "        vertical-align: top;\n",
       "    }\n",
       "\n",
       "    .dataframe thead th {\n",
       "        text-align: right;\n",
       "    }\n",
       "</style>\n",
       "<table border=\"1\" class=\"dataframe\">\n",
       "  <thead>\n",
       "    <tr style=\"text-align: right;\">\n",
       "      <th></th>\n",
       "      <th>beta_0</th>\n",
       "      <th>beta_1</th>\n",
       "      <th>beta_2</th>\n",
       "      <th>beta_3</th>\n",
       "      <th>beta_4</th>\n",
       "      <th>beta_5</th>\n",
       "      <th>beta_6</th>\n",
       "      <th>beta_7</th>\n",
       "      <th>label</th>\n",
       "    </tr>\n",
       "  </thead>\n",
       "  <tbody>\n",
       "    <tr>\n",
       "      <th>0</th>\n",
       "      <td>0.116358</td>\n",
       "      <td>0.134907</td>\n",
       "      <td>0.278246</td>\n",
       "      <td>0.470489</td>\n",
       "      <td>0.0</td>\n",
       "      <td>0.0</td>\n",
       "      <td>0.0</td>\n",
       "      <td>0.0</td>\n",
       "      <td>1</td>\n",
       "    </tr>\n",
       "    <tr>\n",
       "      <th>1</th>\n",
       "      <td>0.096939</td>\n",
       "      <td>0.210459</td>\n",
       "      <td>0.269133</td>\n",
       "      <td>0.423469</td>\n",
       "      <td>0.0</td>\n",
       "      <td>0.0</td>\n",
       "      <td>0.0</td>\n",
       "      <td>0.0</td>\n",
       "      <td>1</td>\n",
       "    </tr>\n",
       "    <tr>\n",
       "      <th>2</th>\n",
       "      <td>0.067696</td>\n",
       "      <td>0.157957</td>\n",
       "      <td>0.483373</td>\n",
       "      <td>0.290974</td>\n",
       "      <td>0.0</td>\n",
       "      <td>0.0</td>\n",
       "      <td>0.0</td>\n",
       "      <td>0.0</td>\n",
       "      <td>1</td>\n",
       "    </tr>\n",
       "    <tr>\n",
       "      <th>3</th>\n",
       "      <td>0.085299</td>\n",
       "      <td>0.132486</td>\n",
       "      <td>0.328494</td>\n",
       "      <td>0.453721</td>\n",
       "      <td>0.0</td>\n",
       "      <td>0.0</td>\n",
       "      <td>0.0</td>\n",
       "      <td>0.0</td>\n",
       "      <td>1</td>\n",
       "    </tr>\n",
       "    <tr>\n",
       "      <th>4</th>\n",
       "      <td>0.026059</td>\n",
       "      <td>0.262215</td>\n",
       "      <td>0.288274</td>\n",
       "      <td>0.423453</td>\n",
       "      <td>0.0</td>\n",
       "      <td>0.0</td>\n",
       "      <td>0.0</td>\n",
       "      <td>0.0</td>\n",
       "      <td>1</td>\n",
       "    </tr>\n",
       "    <tr>\n",
       "      <th>...</th>\n",
       "      <td>...</td>\n",
       "      <td>...</td>\n",
       "      <td>...</td>\n",
       "      <td>...</td>\n",
       "      <td>...</td>\n",
       "      <td>...</td>\n",
       "      <td>...</td>\n",
       "      <td>...</td>\n",
       "      <td>...</td>\n",
       "    </tr>\n",
       "    <tr>\n",
       "      <th>221</th>\n",
       "      <td>0.000000</td>\n",
       "      <td>0.335975</td>\n",
       "      <td>0.664025</td>\n",
       "      <td>0.000000</td>\n",
       "      <td>0.0</td>\n",
       "      <td>0.0</td>\n",
       "      <td>0.0</td>\n",
       "      <td>0.0</td>\n",
       "      <td>1</td>\n",
       "    </tr>\n",
       "    <tr>\n",
       "      <th>222</th>\n",
       "      <td>0.000000</td>\n",
       "      <td>0.322368</td>\n",
       "      <td>0.677632</td>\n",
       "      <td>0.000000</td>\n",
       "      <td>0.0</td>\n",
       "      <td>0.0</td>\n",
       "      <td>0.0</td>\n",
       "      <td>0.0</td>\n",
       "      <td>1</td>\n",
       "    </tr>\n",
       "    <tr>\n",
       "      <th>223</th>\n",
       "      <td>0.062405</td>\n",
       "      <td>0.138508</td>\n",
       "      <td>0.512938</td>\n",
       "      <td>0.286149</td>\n",
       "      <td>0.0</td>\n",
       "      <td>0.0</td>\n",
       "      <td>0.0</td>\n",
       "      <td>0.0</td>\n",
       "      <td>1</td>\n",
       "    </tr>\n",
       "    <tr>\n",
       "      <th>224</th>\n",
       "      <td>0.001678</td>\n",
       "      <td>0.318792</td>\n",
       "      <td>0.677852</td>\n",
       "      <td>0.001678</td>\n",
       "      <td>0.0</td>\n",
       "      <td>0.0</td>\n",
       "      <td>0.0</td>\n",
       "      <td>0.0</td>\n",
       "      <td>1</td>\n",
       "    </tr>\n",
       "    <tr>\n",
       "      <th>225</th>\n",
       "      <td>0.000000</td>\n",
       "      <td>0.344648</td>\n",
       "      <td>0.655352</td>\n",
       "      <td>0.000000</td>\n",
       "      <td>0.0</td>\n",
       "      <td>0.0</td>\n",
       "      <td>0.0</td>\n",
       "      <td>0.0</td>\n",
       "      <td>1</td>\n",
       "    </tr>\n",
       "  </tbody>\n",
       "</table>\n",
       "<p>226 rows × 9 columns</p>\n",
       "</div>"
      ],
      "text/plain": [
       "       beta_0    beta_1    beta_2    beta_3  beta_4  beta_5  beta_6  beta_7  \\\n",
       "0    0.116358  0.134907  0.278246  0.470489     0.0     0.0     0.0     0.0   \n",
       "1    0.096939  0.210459  0.269133  0.423469     0.0     0.0     0.0     0.0   \n",
       "2    0.067696  0.157957  0.483373  0.290974     0.0     0.0     0.0     0.0   \n",
       "3    0.085299  0.132486  0.328494  0.453721     0.0     0.0     0.0     0.0   \n",
       "4    0.026059  0.262215  0.288274  0.423453     0.0     0.0     0.0     0.0   \n",
       "..        ...       ...       ...       ...     ...     ...     ...     ...   \n",
       "221  0.000000  0.335975  0.664025  0.000000     0.0     0.0     0.0     0.0   \n",
       "222  0.000000  0.322368  0.677632  0.000000     0.0     0.0     0.0     0.0   \n",
       "223  0.062405  0.138508  0.512938  0.286149     0.0     0.0     0.0     0.0   \n",
       "224  0.001678  0.318792  0.677852  0.001678     0.0     0.0     0.0     0.0   \n",
       "225  0.000000  0.344648  0.655352  0.000000     0.0     0.0     0.0     0.0   \n",
       "\n",
       "     label  \n",
       "0        1  \n",
       "1        1  \n",
       "2        1  \n",
       "3        1  \n",
       "4        1  \n",
       "..     ...  \n",
       "221      1  \n",
       "222      1  \n",
       "223      1  \n",
       "224      1  \n",
       "225      1  \n",
       "\n",
       "[226 rows x 9 columns]"
      ]
     },
     "execution_count": 5,
     "metadata": {},
     "output_type": "execute_result"
    }
   ],
   "source": [
    "features"
   ]
  },
  {
   "cell_type": "code",
   "execution_count": 6,
   "id": "442af671-6180-4393-a3ec-254276b9462e",
   "metadata": {},
   "outputs": [
    {
     "data": {
      "text/html": [
       "<div>\n",
       "<style scoped>\n",
       "    .dataframe tbody tr th:only-of-type {\n",
       "        vertical-align: middle;\n",
       "    }\n",
       "\n",
       "    .dataframe tbody tr th {\n",
       "        vertical-align: top;\n",
       "    }\n",
       "\n",
       "    .dataframe thead th {\n",
       "        text-align: right;\n",
       "    }\n",
       "</style>\n",
       "<table border=\"1\" class=\"dataframe\">\n",
       "  <thead>\n",
       "    <tr style=\"text-align: right;\">\n",
       "      <th></th>\n",
       "      <th>label</th>\n",
       "    </tr>\n",
       "  </thead>\n",
       "  <tbody>\n",
       "    <tr>\n",
       "      <th>0</th>\n",
       "      <td>1</td>\n",
       "    </tr>\n",
       "    <tr>\n",
       "      <th>1</th>\n",
       "      <td>1</td>\n",
       "    </tr>\n",
       "    <tr>\n",
       "      <th>2</th>\n",
       "      <td>1</td>\n",
       "    </tr>\n",
       "    <tr>\n",
       "      <th>3</th>\n",
       "      <td>1</td>\n",
       "    </tr>\n",
       "    <tr>\n",
       "      <th>4</th>\n",
       "      <td>1</td>\n",
       "    </tr>\n",
       "    <tr>\n",
       "      <th>...</th>\n",
       "      <td>...</td>\n",
       "    </tr>\n",
       "    <tr>\n",
       "      <th>221</th>\n",
       "      <td>1</td>\n",
       "    </tr>\n",
       "    <tr>\n",
       "      <th>222</th>\n",
       "      <td>1</td>\n",
       "    </tr>\n",
       "    <tr>\n",
       "      <th>223</th>\n",
       "      <td>1</td>\n",
       "    </tr>\n",
       "    <tr>\n",
       "      <th>224</th>\n",
       "      <td>1</td>\n",
       "    </tr>\n",
       "    <tr>\n",
       "      <th>225</th>\n",
       "      <td>1</td>\n",
       "    </tr>\n",
       "  </tbody>\n",
       "</table>\n",
       "<p>226 rows × 1 columns</p>\n",
       "</div>"
      ],
      "text/plain": [
       "     label\n",
       "0        1\n",
       "1        1\n",
       "2        1\n",
       "3        1\n",
       "4        1\n",
       "..     ...\n",
       "221      1\n",
       "222      1\n",
       "223      1\n",
       "224      1\n",
       "225      1\n",
       "\n",
       "[226 rows x 1 columns]"
      ]
     },
     "execution_count": 6,
     "metadata": {},
     "output_type": "execute_result"
    }
   ],
   "source": [
    "labels "
   ]
  },
  {
   "cell_type": "markdown",
   "id": "c13a1e37-8143-4de3-b7fc-6e367810269d",
   "metadata": {},
   "source": [
    "## Step-2: Splitting the dataset to training data and testing data respectively"
   ]
  },
  {
   "cell_type": "code",
   "execution_count": 7,
   "id": "1fd2eb6c-7562-4bb1-942a-780596b98b1e",
   "metadata": {},
   "outputs": [
    {
     "name": "stdout",
     "output_type": "stream",
     "text": [
      "features_train = \n",
      "       beta_0    beta_1    beta_2    beta_3    beta_4    beta_5  beta_6  \\\n",
      "188  0.045929  0.365344  0.277662  0.311065  0.000000  0.000000     0.0   \n",
      "12   0.093023  0.034884  0.093023  0.779070  0.000000  0.000000     0.0   \n",
      "28   0.072289  0.115318  0.123924  0.671256  0.017212  0.000000     0.0   \n",
      "186  0.000000  0.390817  0.493841  0.115342  0.000000  0.000000     0.0   \n",
      "112  0.000000  0.071942  0.928058  0.000000  0.000000  0.000000     0.0   \n",
      "..        ...       ...       ...       ...       ...       ...     ...   \n",
      "25   0.094637  0.113565  0.236593  0.034700  0.520505  0.000000     0.0   \n",
      "119  0.039454  0.213961  0.006070  0.001517  0.176024  0.562974     0.0   \n",
      "56   0.112232  0.036570  0.383354  0.467844  0.000000  0.000000     0.0   \n",
      "224  0.001678  0.318792  0.677852  0.001678  0.000000  0.000000     0.0   \n",
      "179  0.023899  0.108176  0.421384  0.446541  0.000000  0.000000     0.0   \n",
      "\n",
      "     beta_7  label  \n",
      "188     0.0      1  \n",
      "12      0.0      2  \n",
      "28      0.0      2  \n",
      "186     0.0      1  \n",
      "112     0.0      0  \n",
      "..      ...    ...  \n",
      "25      0.0      2  \n",
      "119     0.0      1  \n",
      "56      0.0      1  \n",
      "224     0.0      1  \n",
      "179     0.0      1  \n",
      "\n",
      "[135 rows x 9 columns]\n",
      "features_test = \n",
      "       beta_0    beta_1    beta_2    beta_3    beta_4    beta_5    beta_6  \\\n",
      "90   0.084599  0.000000  0.000000  0.000000  0.000000  0.000000  0.034707   \n",
      "30   0.052301  0.142259  0.142259  0.663180  0.000000  0.000000  0.000000   \n",
      "103  0.136213  0.186047  0.000000  0.106312  0.571429  0.000000  0.000000   \n",
      "210  0.047393  0.080569  0.216430  0.655608  0.000000  0.000000  0.000000   \n",
      "78   0.000000  0.445441  0.554559  0.000000  0.000000  0.000000  0.000000   \n",
      "..        ...       ...       ...       ...       ...       ...       ...   \n",
      "123  0.048387  0.191935  0.000000  0.000000  0.138710  0.620968  0.000000   \n",
      "10   0.066493  0.149935  0.312907  0.470665  0.000000  0.000000  0.000000   \n",
      "20   0.000000  0.212842  0.787158  0.000000  0.000000  0.000000  0.000000   \n",
      "38   0.083916  0.167832  0.405594  0.342657  0.000000  0.000000  0.000000   \n",
      "184  0.000000  0.362981  0.463942  0.173077  0.000000  0.000000  0.000000   \n",
      "\n",
      "       beta_7  label  \n",
      "90   0.880694      2  \n",
      "30   0.000000      1  \n",
      "103  0.000000      1  \n",
      "210  0.000000      2  \n",
      "78   0.000000      2  \n",
      "..        ...    ...  \n",
      "123  0.000000      2  \n",
      "10   0.000000      1  \n",
      "20   0.000000      1  \n",
      "38   0.000000      2  \n",
      "184  0.000000      1  \n",
      "\n",
      "[91 rows x 9 columns]\n",
      "labels_train = \n",
      "     label\n",
      "188      1\n",
      "12       2\n",
      "28       2\n",
      "186      1\n",
      "112      0\n",
      "..     ...\n",
      "25       2\n",
      "119      1\n",
      "56       1\n",
      "224      1\n",
      "179      1\n",
      "\n",
      "[135 rows x 1 columns]\n",
      "labels_test = \n",
      "     label\n",
      "90       2\n",
      "30       1\n",
      "103      1\n",
      "210      2\n",
      "78       2\n",
      "..     ...\n",
      "123      2\n",
      "10       1\n",
      "20       1\n",
      "38       2\n",
      "184      1\n",
      "\n",
      "[91 rows x 1 columns]\n"
     ]
    }
   ],
   "source": [
    "features_train, features_test, labels_train, labels_test = train_test_split(features, labels, test_size = 0.40)\n",
    "\n",
    "print(f'features_train = \\n{features_train}')\n",
    "print(f'features_test = \\n{features_test}')\n",
    "print(f'labels_train = \\n{labels_train}')\n",
    "print(f'labels_test = \\n{labels_test}')"
   ]
  },
  {
   "cell_type": "markdown",
   "id": "e0253090-194d-4ac1-ad5b-51b89d047f03",
   "metadata": {},
   "source": [
    "## Step-3: Instantiating K-Fold Cross-Validation Algorithm"
   ]
  },
  {
   "cell_type": "code",
   "execution_count": 8,
   "id": "e3969bc8-19d3-4606-a4ec-b8579cdb6559",
   "metadata": {},
   "outputs": [],
   "source": [
    "# RepeatedStratifiedKFold_inner = KFold(n_splits=10)\n",
    "# RepeatedStratifiedKFold_outer = KFold(n_splits=10)\n",
    "RepeatedStratifiedKFold_inner = KFold(n_splits=10)\n",
    "RepeatedStratifiedKFold_outer = KFold(n_splits=5)"
   ]
  },
  {
   "cell_type": "markdown",
   "id": "4542dfa4-773a-4cb4-aa35-41e8da5f8788",
   "metadata": {},
   "source": [
    "## Step-4: Performing Tradional Grid Search on both the Decision Tree model and the K-Nearest-Neighbour model\n",
    "We perform grid first search on the decision tree model and the K-nearest-neighbour model seperately, as we first find the most optimal variation of each of the models seperately with its respective parameters and then the compare both. The best model is then chosen as our h<sup>*</sup>(D)"
   ]
  },
  {
   "cell_type": "markdown",
   "id": "27e5ea97-9f0f-4423-a02a-cf20a311cb63",
   "metadata": {},
   "source": [
    "### Step-4.1: Initializing Decision-Tree model and selecting most relavant hyperparametes\n",
    "\n",
    "The following hyperparameters were choosen to be used in the for the decision tree model:\n",
    "1. Criterion: \n",
    "1. Splitter:\n",
    "1. Max-Depth: The depth will detemine how well the model behaves on unseen data.\n",
    "1. Min-Samples-Split: \n",
    "1. Class-weight: We have choosen the value of the class-weight parameter to be None because we assume there is no noise in the dataset. The reason for this assumption is because the it in mentioned in the project proposal that the data-preprpcessing stages for the pipeline have already been conducted for us."
   ]
  },
  {
   "cell_type": "code",
   "execution_count": 9,
   "id": "d180a4db-7737-48c3-91e3-6213c7353748",
   "metadata": {},
   "outputs": [],
   "source": [
    "decision_tree = DecisionTreeClassifier()\n",
    "criterion_values = ['entropy','gini','log_loss']\n",
    "splitter_values = ['best']\n",
    "max_depth_values = range(5,10)\n",
    "min_samples_split_values = range(2,10)\n",
    "min_samples_leaf_values = range(1,10)\n",
    "decision_tree_parameters = {'criterion':criterion_values, 'splitter':splitter_values, 'max_depth':max_depth_values, \n",
    "                            'min_samples_split':min_samples_split_values, 'class_weight':['balanced'], 'min_samples_leaf':min_samples_leaf_values} # Need to verify if the class-weight parameter is important because there is no noise in the dataset\n"
   ]
  },
  {
   "cell_type": "markdown",
   "id": "ce764fa0-ebed-4617-a57a-0a2af819a304",
   "metadata": {},
   "source": [
    "### Step-4.2: Performing Grid Search to find the optimal set of hyperparameters for the decision tree model"
   ]
  },
  {
   "cell_type": "code",
   "execution_count": 10,
   "id": "6838f9aa-f900-4745-b672-8212f3c964cb",
   "metadata": {
    "tags": []
   },
   "outputs": [
    {
     "name": "stdout",
     "output_type": "stream",
     "text": [
      "{1.0: {'class_weight': 'balanced', 'criterion': 'entropy', 'max_depth': 5, 'min_samples_leaf': 1, 'min_samples_split': 2, 'splitter': 'best'}}\n"
     ]
    }
   ],
   "source": [
    "accuracy_results = []\n",
    "params_results = []\n",
    "accuracy_param_dict = {}\n",
    "for training_idx, validate_idx in RepeatedStratifiedKFold_outer.split(features_train):\n",
    "    features_training = features_train.iloc[training_idx]\n",
    "    features_validating =  features_train.iloc[validate_idx]\n",
    "    labels_training = labels_train.iloc[training_idx]\n",
    "    labels_validating = labels_train.iloc[validate_idx]\n",
    "    decision_tree_classifier = GridSearchCV(decision_tree, decision_tree_parameters, cv=RepeatedStratifiedKFold_inner)\n",
    "    decision_tree_classifier.fit(features_training, labels_training)\n",
    "    labels_valid_predict = decision_tree_classifier.predict(features_validating)\n",
    "    # accuracy_results.append(accuracy_score(labels_validating, labels_valid_predict))\n",
    "    # params_results.append(decision_tree_classifier.best_params_)\n",
    "    accuracy_param_dict[accuracy_score(labels_validating, labels_valid_predict)] = decision_tree_classifier.best_params_\n",
    "print(accuracy_param_dict)"
   ]
  },
  {
   "cell_type": "code",
   "execution_count": 11,
   "id": "02ebfc90-c4a8-4974-8961-7fbb93104a67",
   "metadata": {},
   "outputs": [
    {
     "name": "stdout",
     "output_type": "stream",
     "text": [
      "1.0\n"
     ]
    }
   ],
   "source": [
    "print(max(accuracy_param_dict.keys()))"
   ]
  },
  {
   "cell_type": "code",
   "execution_count": 12,
   "id": "9fca82d3-5155-40eb-bed5-ba2995d62b62",
   "metadata": {},
   "outputs": [
    {
     "data": {
      "text/plain": [
       "{'class_weight': 'balanced',\n",
       " 'criterion': 'entropy',\n",
       " 'max_depth': 5,\n",
       " 'min_samples_leaf': 1,\n",
       " 'min_samples_split': 2,\n",
       " 'splitter': 'best'}"
      ]
     },
     "execution_count": 12,
     "metadata": {},
     "output_type": "execute_result"
    }
   ],
   "source": [
    "decision_tree_best_params = accuracy_param_dict[max(accuracy_param_dict.keys())]\n",
    "decision_tree_best_params"
   ]
  },
  {
   "cell_type": "code",
   "execution_count": 13,
   "id": "c208d2b1-5451-40f7-a0d9-554370256e50",
   "metadata": {},
   "outputs": [
    {
     "data": {
      "text/html": [
       "<style>#sk-container-id-1 {color: black;background-color: white;}#sk-container-id-1 pre{padding: 0;}#sk-container-id-1 div.sk-toggleable {background-color: white;}#sk-container-id-1 label.sk-toggleable__label {cursor: pointer;display: block;width: 100%;margin-bottom: 0;padding: 0.3em;box-sizing: border-box;text-align: center;}#sk-container-id-1 label.sk-toggleable__label-arrow:before {content: \"▸\";float: left;margin-right: 0.25em;color: #696969;}#sk-container-id-1 label.sk-toggleable__label-arrow:hover:before {color: black;}#sk-container-id-1 div.sk-estimator:hover label.sk-toggleable__label-arrow:before {color: black;}#sk-container-id-1 div.sk-toggleable__content {max-height: 0;max-width: 0;overflow: hidden;text-align: left;background-color: #f0f8ff;}#sk-container-id-1 div.sk-toggleable__content pre {margin: 0.2em;color: black;border-radius: 0.25em;background-color: #f0f8ff;}#sk-container-id-1 input.sk-toggleable__control:checked~div.sk-toggleable__content {max-height: 200px;max-width: 100%;overflow: auto;}#sk-container-id-1 input.sk-toggleable__control:checked~label.sk-toggleable__label-arrow:before {content: \"▾\";}#sk-container-id-1 div.sk-estimator input.sk-toggleable__control:checked~label.sk-toggleable__label {background-color: #d4ebff;}#sk-container-id-1 div.sk-label input.sk-toggleable__control:checked~label.sk-toggleable__label {background-color: #d4ebff;}#sk-container-id-1 input.sk-hidden--visually {border: 0;clip: rect(1px 1px 1px 1px);clip: rect(1px, 1px, 1px, 1px);height: 1px;margin: -1px;overflow: hidden;padding: 0;position: absolute;width: 1px;}#sk-container-id-1 div.sk-estimator {font-family: monospace;background-color: #f0f8ff;border: 1px dotted black;border-radius: 0.25em;box-sizing: border-box;margin-bottom: 0.5em;}#sk-container-id-1 div.sk-estimator:hover {background-color: #d4ebff;}#sk-container-id-1 div.sk-parallel-item::after {content: \"\";width: 100%;border-bottom: 1px solid gray;flex-grow: 1;}#sk-container-id-1 div.sk-label:hover label.sk-toggleable__label {background-color: #d4ebff;}#sk-container-id-1 div.sk-serial::before {content: \"\";position: absolute;border-left: 1px solid gray;box-sizing: border-box;top: 0;bottom: 0;left: 50%;z-index: 0;}#sk-container-id-1 div.sk-serial {display: flex;flex-direction: column;align-items: center;background-color: white;padding-right: 0.2em;padding-left: 0.2em;position: relative;}#sk-container-id-1 div.sk-item {position: relative;z-index: 1;}#sk-container-id-1 div.sk-parallel {display: flex;align-items: stretch;justify-content: center;background-color: white;position: relative;}#sk-container-id-1 div.sk-item::before, #sk-container-id-1 div.sk-parallel-item::before {content: \"\";position: absolute;border-left: 1px solid gray;box-sizing: border-box;top: 0;bottom: 0;left: 50%;z-index: -1;}#sk-container-id-1 div.sk-parallel-item {display: flex;flex-direction: column;z-index: 1;position: relative;background-color: white;}#sk-container-id-1 div.sk-parallel-item:first-child::after {align-self: flex-end;width: 50%;}#sk-container-id-1 div.sk-parallel-item:last-child::after {align-self: flex-start;width: 50%;}#sk-container-id-1 div.sk-parallel-item:only-child::after {width: 0;}#sk-container-id-1 div.sk-dashed-wrapped {border: 1px dashed gray;margin: 0 0.4em 0.5em 0.4em;box-sizing: border-box;padding-bottom: 0.4em;background-color: white;}#sk-container-id-1 div.sk-label label {font-family: monospace;font-weight: bold;display: inline-block;line-height: 1.2em;}#sk-container-id-1 div.sk-label-container {text-align: center;}#sk-container-id-1 div.sk-container {/* jupyter's `normalize.less` sets `[hidden] { display: none; }` but bootstrap.min.css set `[hidden] { display: none !important; }` so we also need the `!important` here to be able to override the default hidden behavior on the sphinx rendered scikit-learn.org. See: https://github.com/scikit-learn/scikit-learn/issues/21755 */display: inline-block !important;position: relative;}#sk-container-id-1 div.sk-text-repr-fallback {display: none;}</style><div id=\"sk-container-id-1\" class=\"sk-top-container\"><div class=\"sk-text-repr-fallback\"><pre>DecisionTreeClassifier(class_weight=&#x27;balanced&#x27;, criterion=&#x27;entropy&#x27;,\n",
       "                       max_depth=5)</pre><b>In a Jupyter environment, please rerun this cell to show the HTML representation or trust the notebook. <br />On GitHub, the HTML representation is unable to render, please try loading this page with nbviewer.org.</b></div><div class=\"sk-container\" hidden><div class=\"sk-item\"><div class=\"sk-estimator sk-toggleable\"><input class=\"sk-toggleable__control sk-hidden--visually\" id=\"sk-estimator-id-1\" type=\"checkbox\" checked><label for=\"sk-estimator-id-1\" class=\"sk-toggleable__label sk-toggleable__label-arrow\">DecisionTreeClassifier</label><div class=\"sk-toggleable__content\"><pre>DecisionTreeClassifier(class_weight=&#x27;balanced&#x27;, criterion=&#x27;entropy&#x27;,\n",
       "                       max_depth=5)</pre></div></div></div></div></div>"
      ],
      "text/plain": [
       "DecisionTreeClassifier(class_weight='balanced', criterion='entropy',\n",
       "                       max_depth=5)"
      ]
     },
     "execution_count": 13,
     "metadata": {},
     "output_type": "execute_result"
    }
   ],
   "source": [
    "dt_model = DecisionTreeClassifier(**decision_tree_best_params)\n",
    "dt_model.fit(features_train,labels_train)"
   ]
  },
  {
   "cell_type": "code",
   "execution_count": 14,
   "id": "ad6e7ba8-b2ca-4a43-8fd4-01e68ff117dd",
   "metadata": {},
   "outputs": [
    {
     "name": "stdout",
     "output_type": "stream",
     "text": [
      "1.0\n"
     ]
    }
   ],
   "source": [
    "labels_predict = dt_model.predict(features_test)\n",
    "print(accuracy_score(labels_test, labels_predict))"
   ]
  },
  {
   "cell_type": "code",
   "execution_count": 15,
   "id": "c04560a7-860c-499a-be28-d86bf4924feb",
   "metadata": {},
   "outputs": [
    {
     "ename": "NameError",
     "evalue": "name 'kfold_cv' is not defined",
     "output_type": "error",
     "traceback": [
      "\u001b[0;31m---------------------------------------------------------------------------\u001b[0m",
      "\u001b[0;31mNameError\u001b[0m                                 Traceback (most recent call last)",
      "Cell \u001b[0;32mIn[15], line 1\u001b[0m\n\u001b[0;32m----> 1\u001b[0m decision_tree_classifier \u001b[38;5;241m=\u001b[39m GridSearchCV(decision_tree, decision_tree_parameters, cv\u001b[38;5;241m=\u001b[39m\u001b[43mkfold_cv\u001b[49m, refit\u001b[38;5;241m=\u001b[39m\u001b[38;5;28;01mTrue\u001b[39;00m, )\n\u001b[1;32m      2\u001b[0m decision_tree_classifier\u001b[38;5;241m.\u001b[39mfit(features_train, labels_train)\n",
      "\u001b[0;31mNameError\u001b[0m: name 'kfold_cv' is not defined"
     ]
    }
   ],
   "source": [
    "decision_tree_classifier = GridSearchCV(decision_tree, decision_tree_parameters, cv=kfold_cv, refit=True, )\n",
    "decision_tree_classifier.fit(features_train, labels_train)"
   ]
  },
  {
   "cell_type": "code",
   "execution_count": null,
   "id": "8e810ff9-7ee3-41d9-9383-1e911678b50e",
   "metadata": {},
   "outputs": [],
   "source": [
    "# decision_tree_classifier.score(features_test, labels_test)\n",
    "labels_predict = decision_tree_classifier.predict(features_test)\n",
    "print(accuracy_score(labels_test, labels_predict))\n",
    "print(\"\\n The best parameters across ALL searched params:\\n\",decision_tree_classifier.best_params_)"
   ]
  },
  {
   "cell_type": "markdown",
   "id": "5a7a8c9a-203a-411a-9747-a7cc0e775311",
   "metadata": {},
   "source": [
    "### Step-4.3: Performing Grid Search to find the optimal set of hyperparameters for the K-Nearest-Neighbour model"
   ]
  },
  {
   "cell_type": "code",
   "execution_count": null,
   "id": "e549270e-cb24-4aa1-b19a-de72d5925676",
   "metadata": {},
   "outputs": [],
   "source": [
    "knn = KNeighborsClassifier()\n",
    "knn_neighbours_range = range(4,113)\n",
    "knn_parameters = {'n_neighbors': knn_neighbours_range, 'weights':('uniform', 'distance'), 'p':[2], # p=2 for euclidian\n",
    "                    'metric':['minkowski']}"
   ]
  },
  {
   "cell_type": "code",
   "execution_count": null,
   "id": "2e71c32f-9d73-4f6f-9b11-54da3f051a44",
   "metadata": {
    "tags": []
   },
   "outputs": [],
   "source": [
    "knn_classifier = GridSearchCV(knn, knn_parameters, cv=kfold_cv, refit=True)\n",
    "knn_classifier.fit(features_train, labels_train)"
   ]
  },
  {
   "cell_type": "code",
   "execution_count": null,
   "id": "7fb21af1-f99c-47c9-8c98-b14f02cb325b",
   "metadata": {},
   "outputs": [],
   "source": [
    "labels_predict = knn_classifier.predict(features_test)\n",
    "print(accuracy_score(labels_test, labels_predict))\n",
    "print(\"\\n The best parameters across ALL searched params:\\n\",knn_classifier.best_params_)"
   ]
  }
 ],
 "metadata": {
  "kernelspec": {
   "display_name": "Python 3 (ipykernel)",
   "language": "python",
   "name": "python3"
  },
  "language_info": {
   "codemirror_mode": {
    "name": "ipython",
    "version": 3
   },
   "file_extension": ".py",
   "mimetype": "text/x-python",
   "name": "python",
   "nbconvert_exporter": "python",
   "pygments_lexer": "ipython3",
   "version": "3.8.15"
  }
 },
 "nbformat": 4,
 "nbformat_minor": 5
}
